{
  "nbformat": 4,
  "nbformat_minor": 0,
  "metadata": {
    "colab": {
      "provenance": [],
      "authorship_tag": "ABX9TyM5keaQc57NYB6r+1Pbuk+u",
      "include_colab_link": true
    },
    "kernelspec": {
      "name": "python3",
      "display_name": "Python 3"
    },
    "language_info": {
      "name": "python"
    }
  },
  "cells": [
    {
      "cell_type": "markdown",
      "metadata": {
        "id": "view-in-github",
        "colab_type": "text"
      },
      "source": [
        "<a href=\"https://colab.research.google.com/github/OrBenyamin7/Cloud/blob/main/tirgul1.ipynb\" target=\"_parent\"><img src=\"https://colab.research.google.com/assets/colab-badge.svg\" alt=\"Open In Colab\"/></a>"
      ]
    },
    {
      "cell_type": "code",
      "execution_count": null,
      "metadata": {
        "colab": {
          "base_uri": "https://localhost:8080/"
        },
        "id": "9qN4O1Z5b2Ta",
        "outputId": "4af09157-3240-4eb2-e4f9-f72840f00d2f"
      },
      "outputs": [
        {
          "output_type": "stream",
          "name": "stdout",
          "text": [
            "Mon Mar 13 14:53:46 2023\n"
          ]
        }
      ],
      "source": [
        "import time\n",
        "print(time.ctime())\n",
        "x=1"
      ]
    },
    {
      "cell_type": "code",
      "source": [
        "import time\n",
        "print(time.ctime())\n",
        "print(x)"
      ],
      "metadata": {
        "colab": {
          "base_uri": "https://localhost:8080/"
        },
        "id": "1OTBtsmJcxXE",
        "outputId": "01438a4e-b044-42f5-f6b4-f70f21045036"
      },
      "execution_count": null,
      "outputs": [
        {
          "output_type": "stream",
          "name": "stdout",
          "text": [
            "Mon Mar 13 14:53:46 2023\n",
            "1\n"
          ]
        }
      ]
    },
    {
      "cell_type": "markdown",
      "source": [
        "$\\sqrt{3x-1}+(1+x)^2$"
      ],
      "metadata": {
        "id": "JRrG3vLueIsd"
      }
    }
  ]
}