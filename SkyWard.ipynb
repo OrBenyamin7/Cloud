{
  "nbformat": 4,
  "nbformat_minor": 0,
  "metadata": {
    "colab": {
      "provenance": [],
      "include_colab_link": true
    },
    "kernelspec": {
      "name": "python3",
      "display_name": "Python 3"
    },
    "language_info": {
      "name": "python"
    },
    "widgets": {
      "application/vnd.jupyter.widget-state+json": {
        "d15e3e3f713345cfa23fd4474c25759d": {
          "model_module": "@jupyter-widgets/controls",
          "model_name": "HTMLModel",
          "model_module_version": "1.5.0",
          "state": {
            "_dom_classes": [],
            "_model_module": "@jupyter-widgets/controls",
            "_model_module_version": "1.5.0",
            "_model_name": "HTMLModel",
            "_view_count": null,
            "_view_module": "@jupyter-widgets/controls",
            "_view_module_version": "1.5.0",
            "_view_name": "HTMLView",
            "description": "",
            "description_tooltip": null,
            "layout": "IPY_MODEL_6958793beb4e4232a480d2a3c4fc7fa9",
            "placeholder": "​",
            "style": "IPY_MODEL_cb3b58f04c88483e8bb8857526bc6939",
            "value": "<style>@import url(\"https://fonts.googleapis.com/css2?family=Josefin+Sans&display=swap\");\n\nbody {\n  font-family: \"Josefin Sans\", sans-serif;\n}\nbutton {\n  cursor: pointer;\n  background-color: #5282b2;\n  color: white;\n}\n\nselect {\n  font-family: \"Josefin Sans\", sans-serif;\n}\n\nh1 {\n  font-family: \"Josefin Sans\", sans-serif;\n  color: #000000;\n  font-weight: 100;\n}\ndiv#main {\n  background-color: #e8e2e2;\n  width: 1250px;\n  height: 550px;\n  border: none;\n  border-radius: 5px;\n  padding: 20px;\n  display: flex;\n  column-gap: 20px;\n}\ndiv#side-bar {\n  text-align: center;\n  background-color: #040323;\n  border: none;\n  border-radius: 5px;\n  width: 250px;\n  display: flex;\n  flex-direction: column;\n}\n\ndiv#side-bar > input {\n  margin: 20px;\n  background-color: transparent;\n  outline: 4px solid #ffffff;\n  border-radius: 5px;\n  color: white;\n  padding: 10px;\n  height: 25px;\n}\n\nbutton.wrong-privilage-btn {\n  font-family: \"Josefin Sans\", sans-serif;\n  background-color: transparent;\n  border: none;\n  outline: 4px solid #ffffff3a;\n  border-radius: 5px;\n  color: #ffffff3a;\n  padding: 10px;\n  margin: 20px;\n  transition: all 0.3s ease 0s;\n  opacity: 0.9;\n  cursor: default;\n}\n\nbutton.sidebar-btn {\n  font-family: \"Josefin Sans\", sans-serif;\n  background-color: transparent;\n  border: none;\n  outline: 4px solid #ffffff;\n  border-radius: 5px;\n  color: white;\n  padding: 10px;\n  margin: 20px;\n  transition: all 0.3s ease 0s;\n}\n\nbutton.sidebar-btn:hover {\n  background-color: #a7eaff;\n  transition: all 0.3s ease 0s;\n  cursor: pointer;\n  color: #000000;\n}\n\nbutton.sidebar-btn:active {\n  opacity: 0.5;\n}\n\nbutton.sidebar-btn:disabled {\n  background-color: #a7eaff;\n  cursor: default;\n  color: #000000;\n}\n\ndiv#body {\n  font-family: \"Josefin Sans\", sans-serif;\n  background-image: url(\"https://getwallpapers.com/wallpaper/full/2/e/4/863043-top-wallpaper-for-computer-background-2560x1600.jpg\");\n  background-size: cover;\n  background-repeat: no-repeat;\n  background-color: #5d3891;\n  padding: 20px;\n  border: none;\n  border-radius: 5px;\n  width: 100%;\n}\ndiv.grid-question-box {\n  grid-area: question-box;\n}\ndiv.grid-code-box {\n  grid-area: code-box;\n}\ndiv.grid-answers-box {\n  grid-area: answers-box;\n}\ndiv.grid-progress-box {\n  grid-area: progress-box;\n}\ndiv.grid-container {\n  grid-template-rows: 20% 60% 20%;\n  grid-template-columns: 33% 33% 33%;\n  display: grid;\n  grid-template-areas:\n    \"question-box question-box question-box\"\n    \"code-box answers-box answers-box\"\n    \"progress-box progress-box progress-box\";\n  gap: 20px;\n  height: 100%;\n}\ndiv#question-box {\n  font-family: \"Josefin Sans\", sans-serif;\n  padding: 20px;\n  text-align: left;\n  background-color: #a7eaff;\n  border: none;\n  border-radius: 5px;\n  margin-right: 30px;\n  display: grid;\n  grid-template-columns: 50% 50%;\n  color: black;\n  opacity: 0.9;\n}\n\ndiv#question-btn-menu {\n  font-family: \"Josefin Sans\", sans-serif;\n  margin-left: auto;\n  margin-right: 0;\n}\n\ndiv#question-btn-menu > button {\n  font-family: \"Josefin Sans\", sans-serif;\n  background-color: #5282b2;\n  border: 1px solid #ffffff;\n  outline: none;\n  border-radius: 5px;\n  color: white;\n  padding: 10px 20px 10px 20px;\n  margin-left: 10px;\n  transition: all 0.3s ease 0s;\n}\n\ndiv#question-btn-menu > button:hover {\n  background-color: #183a7a;\n  transition: all 0.3s ease 0s;\n}\n\ndiv#code-box {\n  text-align: left;\n  background-color: transparent;\n  border: none;\n  border-radius: 5px;\n  margin-right: 20px;\n  margin-bottom: 20px;\n}\ndiv#code-box > textarea {\n  opacity: 0.9;\n  padding: 10px;\n  width: 100%;\n  height: 100%;\n  border: 1px solid #5282b2;\n  border-radius: 7px;\n  background-color: #040323;\n  color: #fff;\n  resize: none;\n  font-family: \"Josefin Sans\", sans-serif;\n  font-size: 1.1em;\n}\ndiv#answers-box {\n  font-family: \"Josefin Sans\", sans-serif;\n  text-align: left;\n  background-color: #a7eaff;\n  border: none;\n  border-radius: 5px;\n  display: flex;\n  flex-wrap: wrap;\n  margin-right: 30px;\n  opacity: 0.9;\n  column-gap: 20px;\n  row-gap: 10px;\n  padding: 20px;\n}\ndiv#answers-box > button {\n  font-family: \"Josefin Sans\", sans-serif;\n  margin: 0;\n  width: 275px;\n  max-height: 95px;\n  min-height: 95px;\n  margin-bottom: -20px;\n  background-color: #5282b2;\n  border: none;\n  border-radius: 5px;\n  font-size: 1.3em;\n  color: #fff;\n  font-weight: bold;\n  white-space: normal;\n  transition: all 0.3s ease 0s;\n}\n\ndiv#answers-box > button:hover {\n  background-color: #183a7a;\n  transition: all 0.3s ease 0s;\n}\n\ndiv#progress-box {\n  padding: 20px;\n  text-align: left;\n  background-color: #040323;\n  border: 1px solid #a7eaff;\n  border-radius: 5px;\n  margin-bottom: 30px;\n  margin-right: 30px;\n  display: flex;\n  flex-direction: row;\n  height: fit-content;\n  opacity: 0.8;\n}\nspan#question-text {\n  font-family: \"Josefin Sans\", sans-serif;\n  font-size: 1.3em;\n  font-weight: 100;\n}\n\n[class^=\"prog-node-\"] {\n  width: 25px;\n  height: 25px;\n  border: none;\n  border-radius: 10px;\n  background-color: white;\n  margin-right: 20px;\n  padding: 10px;\n}\n\n.end-game {\n  font-family: \"Josefin Sans\", sans-serif;\n  font-size: 50px;\n  color: white;\n  text-align: center;\n  background-color: #03031b;\n  opacity: 0.9;\n}\n.form-container {\n  height: 100%;\n  margin: 0 auto;\n  display: flex;\n  flex-direction: column;\n}\n\n.left-column {\n  padding: 20px;\n  flex-direction: column;\n  color: white;\n  align-items: left;\n  height: fit-content;\n  background-color: #03031b;\n  border-radius: 5px;\n  width: 50%;\n  opacity: 0.9;\n}\n\n.right-column {\n  flex: 1;\n  padding-left: 20px;\n  width: 100%;\n  background-color: #03031b;\n  padding: 20px;\n  opacity: 0.9;\n  color: white;\n}\n\n.bottom-row {\n  display: flex;\n  flex-direction: column;\n  align-items: center;\n  justify-content: space-between;\n  margin-top: 20px;\n}\n\n.form-container h2 {\n  text-align: center;\n  margin-bottom: 20px;\n}\n\n.form-container label {\n  display: block;\n  margin-bottom: 10px;\n}\n\n.form-container input[type=\"text\"],\n.form-container textarea,\n.form-container select {\n  width: 80%;\n  padding: 10px;\n  border: 1px solid #ccc;\n  border-radius: 5px;\n}\n\n.form-container .radio-container {\n  display: flex;\n  flex-direction: row;\n  align-items: center;\n  margin-bottom: 10px;\n}\n\n.submit-button {\n  width: 20%;\n  height: 100%;\n  padding: 10px;\n  border: none;\n  border-radius: 15px;\n  background-color: #a7eaff;\n  color: #000000;\n  text-align: center;\n  cursor: pointer;\n  margin: 20px 10px 0px 0px;\n  font-family: \"Josefin Sans\", sans-serif;\n}\n\n.form-container .start-btn {\n  height: 100%;\n  padding: 20px;\n  border: none;\n  border-radius: 15px;\n  background-color: #4caf50;\n  color: #000000;\n  text-align: center;\n  cursor: pointer;\n}\n\n.form-container .submit-button:hover {\n  opacity: 0.8;\n}\n\n.form-container .columns {\n  display: flex;\n  flex-direction: row;\n  justify-content: space-between;\n  margin-bottom: 20px;\n}\n.temp {\n  display: flex;\n}\n\n.game-config {\n  opacity: 0.9;\n  padding: 20px;\n  display: flex;\n  flex-direction: column;\n  align-items: left;\n  height: fit-content;\n  background-color: #a7eaff;\n  border-radius: 10px;\n  width: 100%;\n  color: black;\n}\nselect#choose-difficulty {\n  border: 2px solid #000000;\n  border-radius: 5px;\n  background-color: transparent;\n  width: 200px;\n  height: 45px;\n  color: black;\n  margin-bottom: 10px;\n}\n\nselect#choose-difficulty > option {\n  background-color: #a7eaff;\n}\n\n.start-btn {\n  margin-top: 10px;\n  background-color: #5282b2;\n  border: none;\n  border-radius: 5px;\n  height: 45px;\n  color: white;\n  font-family: \"Josefin Sans\", sans-serif;\n  font-weight: bold;\n  font-size: 14px;\n  position: relative;\n}\n\n.start-btn:hover {\n  animation: wiggle 0.5s;\n  cursor: pointer;\n}\n\n@keyframes wiggle {\n  0% {\n    left: 0;\n  }\n  25% {\n    left: 5px;\n  }\n  50% {\n    left: 0;\n  }\n  75% {\n    right: 5px;\n  }\n  100% {\n    left: 0;\n  }\n}\n\n#error-msg-box {\n  font-family: \"Josefin Sans\", sans-serif;\n  font-size: 11px;\n  font-weight: 100;\n}\n.game-description {\n  font-size: 13px;\n  font-weight: 100;\n  height: fit-content;\n  line-height: 1.5;\n  text-align: left;\n  padding: 20px;\n  border-radius: 10px;\n  background-color: #a7eaff;\n  color: black;\n  opacity: 0.9;\n  font-size: 14px;\n}\n\n.headline {\n  margin-bottom: 20px;\n  color: cyan;\n}\n\n.home-view-div {\n  background-color: #03031b;\n  border: 1px solid #a7eaff;\n  color: white;\n  opacity: 0.9;\n  width: stretch;\n  padding-left: 20px;\n  padding-right: 20px;\n  padding-top: 10px;\n  padding-bottom: 10px;\n  border-radius: 10px;\n  height: fit-content;\n  font-size: 16px;\n  line-height: 20px;\n}\n\n#home-leader {\n  margin-right: 30px;\n  height: 305px;\n}\n.leaderboard-user {\n  width: stretch;\n  border: 4px solid #5d3891;\n  border-radius: 5px;\n  line-height: 15px;\n  padding-left: 10px;\n  display: flex;\n  margin-top: 10px;\n  margin-bottom: 10px;\n}\n\n.leaderboard-points {\n  margin-left: auto;\n  margin-right: 10px;\n}\n\n.trophy-container {\n  display: flex;\n  flex-wrap: wrap;\n  gap: 20px;\n  padding: 20px;\n}\n\n.trophy {\n  width: 120px;\n  border: 4px solid #5d3891;\n  border-radius: 5px;\n  line-height: 15px;\n  padding-left: 10px;\n}\n\n.update-container {\n  display: flex;\n  flex-direction: row;\n  gap: 20px;\n}\n.button.sidebar-btn:disabled {\n  background-color: #ccc;\n  color: #999;\n  cursor: not-allowed;\n  pointer-events: none;\n}\n\n.question-dropdown {\n  display: none;\n  margin-top: 10px;\n  border: 1px solid #ccc;\n  border-radius: 4px;\n  max-height: 200px;\n  overflow-y: auto;\n}\n\n.question-dropdown div {\n  padding: 5px;\n  cursor: pointer;\n}</style><html>\n\n<head>\n    <link rel=\"preconnect\" href=\"https://fonts.googleapis.com\">\n    <link rel=\"preconnect\" href=\"https://fonts.gstatic.com\" crossorigin>\n    <link href=\"https://fonts.googleapis.com/css2?family=Josefin+Sans&display=swap\" rel=\"stylesheet\">\n\n    <script src=\"https://cdn.jsdelivr.net/npm/chart.js\"></script>\n\n    <script src=\"https://www.gstatic.com/firebasejs/8.6.1/firebase-app.js\"></script>\n    <script src=\"https://www.gstatic.com/firebasejs/8.6.1/firebase-database.js\"></script>\n\n</head>\n\n<body>\n    <div id=\"main\">\n        <div id=\"side-bar\">\n            <img src=\"https://raw.githubusercontent.com/DinaKakiashvili/test/23a23c21ea5aef7dd8f4c9517884829612fd2aa3/SkyWardLogo.jpg\"\n                alt=\"Image\">\n            <input placeholder='Username' for='username' type='text' id='username-input'></input>\n            <input placeholder='Password' for='password' type='password' id='password-input'></input>\n            <button id=\"login-btn\" class=\"sidebar-btn\">LOGIN</button>\n            <label for='login-error' class='error-label' id='login-error-label'></label>\n        </div>\n        <div id=\"body\">\n\n\n        </div>\n    </div>\n</body>\n\n</html><script>const NUMBER_OF_QUESTIONS = 7;\r\nconst bodyDiv = document.getElementById('body');\r\nlet answersList = [];\r\nlet questionsList = [];\r\nlet codesList = [];\r\nlet correctAnswersList = [];\r\nlet questionIdList = [];\r\nlet allTriviaQuestions = [];\r\nlet userList = JSON.parse('[{\"completed_questions\": [null, null, {\"6\": true}, {\"5\": true}, {\"4\": false}, null, null, {\"3\": true}, {\"5\": true}, null, null, null, {\"8\": true}, {\"4\": true}, {\"8\": true}, {\"3\": true}, {\"6\": true}, {\"4\": true}, {\"5\": true}, {\"8\": true}, {\"5\": true}, {\"8\": true}, {\"8\": true}, {\"4\": true}, {\"3\": true}, {\"4\": true}, {\"6\": true}, {\"8\": true}, {\"4\": true}, {\"8\": true}, {\"5\": true}, {\"4\": true}, {\"3\": true}, {\"3\": true}, {\"5\": false}, {\"7\": true}, {\"6\": true}, {\"3\": false}, {\"4\": true}, {\"2\": false}, {\"8\": false}, {\"4\": true}, {\"6\": true}, {\"2\": true}, {\"7\": false}, {\"5\": true}, {\"8\": true}, {\"2\": true}, {\"4\": false}, {\"6\": false}, {\"7\": false}, {\"2\": true}, {\"25\": true}, {\"3\": true}, {\"5\": true}, {\"8\": false}, {\"6\": false}, {\"25\": true}, {\"7\": true}, {\"6\": false}, {\"5\": true}, {\"8\": false}, {\"3\": true}, {\"5\": true}, {\"8\": false}, {\"25\": true}, {\"10\": true}, {\"6\": true}, {\"10\": false}, {\"8\": false}, {\"4\": true}, {\"7\": true}, {\"2\": true}], \"db_key\": \"-NWhoCo67bKdh-hxfYpT\", \"is_manager\": false, \"level\": \"Beginner\", \"password\": \"1234\", \"points\": 80, \"trophies\": [{\"description\": \"Answered correctly 3 times in a row.\", \"name\": \"3 Streak\", \"points\": 10, \"time\": \"26/05/2023\"}, {\"description\": \"Answered correctly 5 times in a row.\", \"name\": \"High Five!\", \"points\": 10, \"time\": \"26/05/2023\"}, {\"description\": \"Answered all 7 questions correctly in a single game.\", \"name\": \"Lucky Number\", \"points\": 10, \"time\": \"26/05/2023\"}], \"user_id\": 1, \"user_name\": \"user1\"}, {\"completed_questions\": [[null, false], {\"2\": true}, {\"4\": true}, {\"5\": true}, {\"7\": true}, {\"8\": true}, {\"6\": true}, {\"2\": true}, {\"4\": true}, {\"3\": true}, {\"3\": true}, {\"5\": true}, {\"10\": false}, {\"2\": false}, {\"8\": true}, {\"6\": false}, {\"4\": true}, {\"5\": true}, {\"6\": false}, {\"9\": true}, {\"3\": false}], \"db_key\": \"-NWhoEUOOW1g_9oNB9zC\", \"is_manager\": true, \"level\": \"Beginner\", \"password\": \"1234\", \"points\": 45, \"trophies\": [{\"description\": \"Answered correctly 3 times in a row.\", \"name\": \"3 Streak\", \"points\": 10, \"time\": \"26/05/2023\"}, {\"description\": \"Answered correctly 5 times in a row.\", \"name\": \"High Five!\", \"points\": 10, \"time\": \"26/05/2023\"}, {\"description\": \"Answered all 7 questions correctly in a single game.\", \"name\": \"Lucky Number\", \"points\": 10, \"time\": \"26/05/2023\"}], \"user_id\": 2, \"user_name\": \"user2\"}]');\r\nlet currentUser = null;\r\nlet currentIndex = 0;\r\n\r\nlet number_of_question = 0;\r\nlet number_of_correct_answer = 0;\r\n\r\n// Define user level\r\nconst levels = [\r\n  {\r\n    name: \"Beginner\",\r\n    requirements: {\r\n      answeredQuestions: -1,\r\n      correctAnswersPercentage: -1,\r\n    },\r\n  },\r\n  {\r\n    name: \"Intermediate\",\r\n    requirements: {\r\n      answeredQuestions: 20,\r\n      correctAnswersPercentage: 80,\r\n    },\r\n  },\r\n  {\r\n    name: \"Advanced\",\r\n    requirements: {\r\n      answeredQuestions: 50,\r\n      correctAnswersPercentage: 90,\r\n    },\r\n  },\r\n];\r\n\r\n// Define the trophies\r\nvar trophies = [\r\n  {\r\n    name: \"3 Streak\",\r\n    description: \"Answered correctly 3 times in a row.\",\r\n    time: \"26/05/2023\",\r\n    points: 10,\r\n  },\r\n  {\r\n    name: \"High Five!\",\r\n    description: \"Answered correctly 5 times in a row.\",\r\n    time: \"26/05/2023\",\r\n    points: 10,\r\n  },\r\n  {\r\n    name: \"Lucky Number\",\r\n    description: \"Answered all 7 questions correctly in a single game.\",\r\n    time: \"26/05/2023\",\r\n    points: 10,\r\n  },\r\n  {\r\n    name: \"Rapid Responder\",\r\n    description: \"Answered all 7 questions within the time limit.\",\r\n    time: \"26/05/2023\",\r\n    points: 10,\r\n  },\r\n  {\r\n    name: \"Easy Category Champion\",\r\n    description: \"Answered all questions correctly in the Easy category.\",\r\n    time: \"26/05/2023\",\r\n    points: 10,\r\n  },\r\n  {\r\n    name: \"Medium Category Champion\",\r\n    description: \"Answered all questions correctly in the Medium category.\",\r\n    time: \"26/05/2023\",\r\n    points: 10,\r\n  },\r\n  {\r\n    name: \"Hard Category Champion\",\r\n    description: \"Answered all questions correctly in the Hard category.\",\r\n    time: \"26/05/2023\",\r\n    points: 10,\r\n  },\r\n  {\r\n    name: \"Trivia Whiz\",\r\n    description: \"Accumulated 100 total points across multiple games.\",\r\n    time: \"26/05/2023\",\r\n    points: 10,\r\n  },\r\n];\r\n\r\nconst loginButton = document.getElementById(\"login-btn\");\r\nloginButton.addEventListener(\"click\", handleLoginButton);\r\nconst menuButtons = [];\r\n\r\nfirebaseConfig = {\r\n  databaseURL: \"https://trivia-game-6a531-default-rtdb.firebaseio.com/\",\r\n};\r\n\r\nfirebase.initializeApp(firebaseConfig);\r\ndatabase = firebase.database().ref(\"SkyWard/Questions\");\r\n\r\nfunction handleLoginButton(event) {\r\n  if (currentUser != null) {\r\n    currentUser = null;\r\n    loginButton.innerHTML = \"LOGIN\";\r\n    handleLoginView(event);\r\n  } else {\r\n    currentUser = handleUserLogin();\r\n    if (currentUser === null) {\r\n      const errorLabel = document.getElementById(\"login-error-label\");\r\n      errorLabel.innerHTML = \"Wrong Username or Password\";\r\n      return;\r\n    }\r\n\r\n    const sideBar = document.getElementById(\"side-bar\");\r\n    sideBar.innerHTML = `\r\n      <img src=\"https://raw.githubusercontent.com/DinaKakiashvili/test/23a23c21ea5aef7dd8f4c9517884829612fd2aa3/SkyWardLogo.jpg\" alt=\"Image\">\r\n      <button id=\"home-btn\" class=\"sidebar-btn\">HOME</button>\r\n      <button id=\"play-btn\" class=\"sidebar-btn\">PLAY!</button>\r\n      <button id=\"config-btn\" class=\"sidebar-btn\">CONFIG</button>\r\n      <button id=\"login-btn\" class=\"sidebar-btn\">LOGOUT</button>\r\n    `;\r\n    const playButton = document.getElementById(\"play-btn\");\r\n    playButton.addEventListener(\"click\", handleGameInfoView);\r\n    const homeButton = document.getElementById(\"home-btn\");\r\n    homeButton.addEventListener(\"click\", handleHomeView);\r\n    const configButton = document.getElementById(\"config-btn\");\r\n    configButton.addEventListener(\"click\", handleConfigView);\r\n    menuButtons.push(playButton, homeButton, configButton);\r\n    const loginButton = document.getElementById(\"login-btn\");\r\n    loginButton.addEventListener(\"click\", handleLoginButton);\r\n\r\n    // Check type of user\r\n    if (!currentUser.is_manager) {\r\n      configButton.className = \"wrong-privilage-btn\";\r\n      configButton.removeEventListener(\"click\", handleConfigView);\r\n    }\r\n    // Render home view\r\n    handleHomeView(event);\r\n  }\r\n}\r\n\r\nfunction handleLoginView(event) {\r\n  handleMenuButtonClick(event);\r\n  const sideBar = document.getElementById(\"side-bar\");\r\n  // Set the login div\r\n  sideBar.innerHTML = `\r\n    <img src=\"https://raw.githubusercontent.com/DinaKakiashvili/test/23a23c21ea5aef7dd8f4c9517884829612fd2aa3/SkyWardLogo.jpg\" alt=\"Image\">\r\n    <input placeholder='Username' for='username' type='text' id='username-input' ></input>\r\n    <input placeholder='Password' for='password' type='password' id='password-input'></input>\r\n    <button id=\"login-btn\" class=\"sidebar-btn\">LOGIN</button>\r\n    <label for='login-error' class='error-label' id='login-error-label'></label>\r\n  `;\r\n  const loginButton = document.getElementById(\"login-btn\");\r\n  loginButton.addEventListener(\"click\", handleLoginButton);\r\n}\r\n\r\nfunction handleUserLogin() {\r\n  const usernameInputValue = document.getElementById(\"username-input\").value;\r\n  const passwordInputValue = document.getElementById(\"password-input\").value;\r\n  var foundUser = null;\r\n  // Iterate through the userList\r\n  for (let i = 0; i < userList.length; i++) {\r\n    const user = userList[i];\r\n    // Check if the username and password match\r\n    if (\r\n      user.user_name === usernameInputValue &&\r\n      user.password === passwordInputValue\r\n    ) {\r\n      // Match found!\r\n      foundUser = user;\r\n      break;\r\n    }\r\n  }\r\n  return foundUser;\r\n}\r\n\r\nfunction handleMenuButtonClick(event) {\r\n  // Clear view\r\n  bodyDiv.innerHTML = \"\";\r\n  // Enable all menu buttons\r\n  menuButtons.forEach((button) => {\r\n    button.disabled = false;\r\n  });\r\n  // Disabled active button\r\n  event.target.disabled = true;\r\n}\r\n\r\nfunction fetchQuestionsFromDB(difficultyLevel) {\r\n  database\r\n    .orderByChild(\"difficulty\")\r\n    .equalTo(difficultyLevel)\r\n    .once(\"value\")\r\n    .then(function (snapshot) {\r\n      // Handle the retrieved data here\r\n      snapshot.forEach(function (childSnapshot) {\r\n        var question = childSnapshot.val();\r\n        answersList.push(question.answers);\r\n        questionsList.push(question.question);\r\n        codesList.push(question.code);\r\n        correctAnswersList.push(question.correctAnswer - 1);\r\n        questionIdList.push(question.question_id);\r\n      });\r\n\r\n      // Shuffle the questions\r\n      for (let i = questionsList.length - 1; i > 0; i--) {\r\n        const j = Math.floor(Math.random() * (i + 1));\r\n        [questionsList[i], questionsList[j]] = [\r\n          questionsList[j],\r\n          questionsList[i],\r\n        ];\r\n        [answersList[i], answersList[j]] = [answersList[j], answersList[i]];\r\n        [codesList[i], codesList[j]] = [codesList[j], codesList[i]];\r\n        [correctAnswersList[i], correctAnswersList[j]] = [\r\n          correctAnswersList[j],\r\n          correctAnswersList[i],\r\n        ];\r\n        [questionIdList[i], questionIdList[j]] = [\r\n          questionIdList[j],\r\n          questionIdList[i],\r\n        ];\r\n      }\r\n      // Take only 7 questions\r\n      questionsList = questionsList.slice(0, 7);\r\n      answersList = answersList.slice(0, 7);\r\n      codesList = codesList.slice(0, 7);\r\n      correctAnswersList = correctAnswersList.slice(0, 7);\r\n      questionIdList = questionIdList.slice(0, 7);\r\n    })\r\n    .catch(function (error) {\r\n      console.error(error);\r\n    });\r\n}\r\n\r\nfunction getAllQuestionsFromDB() {\r\n  return database\r\n    .once(\"value\")\r\n    .then(function (snapshot) {\r\n      snapshot.forEach(function (childSnapshot) {\r\n        const question = childSnapshot.val();\r\n        allTriviaQuestions.push(question);\r\n      });\r\n    })\r\n    .catch(function (error) {\r\n      console.error(error);\r\n    });\r\n}\r\n\r\nfunction handleConfigView(event) {\r\n  getAllQuestionsFromDB();\r\n  handleMenuButtonClick(event);\r\n  // A form to add questions to the database\r\n  const configDiv = document.createElement(\"div\");\r\n  configDiv.innerHTML = `\r\n  <div class=\"form-container\">\r\n      <div class=\"columns\">\r\n      <div class=\"left-column\">\r\n        <div class=\"update-container\">\r\n          <label for=\"update-or-add\">Update or Add:</label>\r\n          <div class=\"radio-container\">\r\n            <input type=\"radio\" id=\"update\" name=\"update-or-add\" value=\"update\" required>\r\n            <label for=\"update\">Update</label>\r\n          </div>\r\n          <div class=\"radio-container\">\r\n            <input type=\"radio\" id=\"add\" name=\"update-or-add\" value=\"add\" required>\r\n            <label for=\"add\">Add</label>\r\n          </div>\r\n        </div>\r\n        <label for=\"question\">Question:</label>\r\n        <input type=\"text\" id=\"question\" name=\"question\" required>\r\n\r\n        <label for=\"code-snippet\">Code Snippet:</label>\r\n        <textarea id=\"code-snippet\" name=\"code-snippet\" rows=\"4\" required></textarea>\r\n\r\n        <label for=\"answers\">Choose correct answer:</label>\r\n        <div class=\"radio-container\">\r\n          <input type=\"radio\" id=\"correct-answer1\" name=\"correct-answer\" value=\"1\" required>\r\n          <label for=\"correct-answer1\">Answer 1</label>\r\n        </div>\r\n\r\n        <div class=\"radio-container\">\r\n          <input type=\"radio\" id=\"correct-answer2\" name=\"correct-answer\" value=\"2\" required>\r\n          <label for=\"correct-answer2\">Answer 2</label>\r\n        </div>\r\n\r\n        <div class=\"radio-container\">\r\n          <input type=\"radio\" id=\"correct-answer3\" name=\"correct-answer\" value=\"3\" required>\r\n          <label for=\"correct-answer3\">Answer 3</label>\r\n        </div>\r\n\r\n        <div class=\"radio-container\">\r\n          <input type=\"radio\" id=\"correct-answer4\" name=\"correct-answer\" value=\"4\" required>\r\n          <label for=\"correct-answer4\">Answer 4</label>\r\n        </div>\r\n      </div>\r\n\r\n      <div class=\"right-column\">\r\n        <label for=\"answer1\">Answer 1:</label>\r\n        <input type=\"text\" id=\"answer1\" name=\"answer1\" required>\r\n\r\n        <label for=\"answer2\">Answer 2:</label>\r\n        <input type=\"text\" id=\"answer2\" name=\"answer2\" required>\r\n\r\n        <label for=\"answer3\">Answer 3:</label>\r\n        <input type=\"text\" id=\"answer3\" name=\"answer3\" required>\r\n\r\n        <label for=\"answer4\">Answer 4:</label>\r\n        <input type=\"text\" id=\"answer4\" name=\"answer4\" required>\r\n\r\n        <label for=\"difficulty\">Difficulty:</label>\r\n        <select id=\"difficulty\" name=\"difficulty\" required>\r\n          <option value=\"easy\" selected>Easy</option>\r\n          <option value=\"medium\">Medium</option>\r\n          <option value=\"hard\">Hard</option>\r\n        </select>\r\n\r\n        <div>\r\n          <button id=\"submit-question\" class=\"submit-button\" type=\"submit\" value=\"Submit\">Submit</button>\r\n        </div>\r\n      </div>\r\n    </div>\r\n    <div>\r\n    </div>\r\n    <div class='submit-message-box' style='text-align: center; font-size: 1em; color:white;background-color:#FF0000;opacity:0.9;'></div>\r\n  </div>\r\n  `;\r\n  bodyDiv.appendChild(configDiv);\r\n\r\n  let questionValue = null;\r\n  let codeValue = null;\r\n  let firstAnswerValue = null;\r\n  let secondAnswerValue = null;\r\n  let thirdAnswerValue = null;\r\n  let forthAnswerValue = null;\r\n  let correctAnswerValue = null;\r\n  let questionIdValue = null;\r\n  let difficultyValue = \"easy\";\r\n\r\n  const questionInput = document.getElementById(\"question\");\r\n  const codeInput = document.getElementById(\"code-snippet\");\r\n  const firstAnswerInput = document.getElementById(\"answer1\");\r\n  const secondAnswerInput = document.getElementById(\"answer2\");\r\n  const thirdAnswerInput = document.getElementById(\"answer3\");\r\n  const forthAnswerInput = document.getElementById(\"answer4\");\r\n  const difficultySelector = document.getElementById(\"difficulty\");\r\n  const radioButtons = document.querySelectorAll(\r\n    'input[name=\"correct-answer\"]'\r\n  );\r\n  const updateRadioButton = document.getElementById(\"update\");\r\n  const addRadioButton = document.getElementById(\"add\");\r\n  const questionSelect = document.createElement(\"select\");\r\n\r\n  // UPDATE OR ADD SECTION\r\n\r\n  questionSelect.id = \"question-select\";\r\n  questionSelect.name = \"question\";\r\n  questionSelect.required = true;\r\n\r\n  updateRadioButton.addEventListener(\"change\", function (event) {\r\n    if (updateRadioButton.checked) {\r\n      // Clear the Select options\r\n      resetQuestionSelect();\r\n      // Event listener for the select element\r\n      questionInput.replaceWith(questionSelect);\r\n      clearInputs();\r\n\r\n      document\r\n        .getElementById(\"submit-question\")\r\n        .removeEventListener(\"click\", handleAddQuestion);\r\n\r\n      document\r\n        .getElementById(\"submit-question\")\r\n        .addEventListener(\"click\", handleUpdateQuestion);\r\n    }\r\n  });\r\n\r\n  addRadioButton.addEventListener(\"change\", function (event) {\r\n    if (addRadioButton.checked) {\r\n      questionSelect.replaceWith(questionInput);\r\n      clearInputs();\r\n      document\r\n        .getElementById(\"submit-question\")\r\n        .removeEventListener(\"click\", handleUpdateQuestion);\r\n\r\n      document\r\n        .getElementById(\"submit-question\")\r\n        .addEventListener(\"click\", handleAddQuestion);\r\n    }\r\n  });\r\n\r\n  // END SECTION\r\n\r\n  difficultySelector.value = \"easy\";\r\n  document\r\n    .getElementById(\"submit-question\")\r\n    .setAttribute(\"difficulty\", difficultyValue);\r\n\r\n  questionInput.addEventListener(\"change\", function (event) {\r\n    questionValue = questionInput.value;\r\n    document\r\n      .getElementById(\"submit-question\")\r\n      .setAttribute(\"question\", questionValue);\r\n  });\r\n\r\n  codeInput.addEventListener(\"change\", function (event) {\r\n    codeValue = codeInput.value;\r\n    document.getElementById(\"submit-question\").setAttribute(\"code\", codeValue);\r\n  });\r\n\r\n  firstAnswerInput.addEventListener(\"change\", function (event) {\r\n    firstAnswerValue = firstAnswerInput.value;\r\n    document\r\n      .getElementById(\"submit-question\")\r\n      .setAttribute(\"firstAnswer\", firstAnswerValue);\r\n  });\r\n\r\n  secondAnswerInput.addEventListener(\"change\", function (event) {\r\n    secondAnswerValue = secondAnswerInput.value;\r\n    document\r\n      .getElementById(\"submit-question\")\r\n      .setAttribute(\"secondAnswer\", secondAnswerValue);\r\n  });\r\n\r\n  thirdAnswerInput.addEventListener(\"change\", function (event) {\r\n    thirdAnswerValue = thirdAnswerInput.value;\r\n    document\r\n      .getElementById(\"submit-question\")\r\n      .setAttribute(\"thirdAnswer\", thirdAnswerValue);\r\n  });\r\n\r\n  forthAnswerInput.addEventListener(\"change\", function (event) {\r\n    forthAnswerValue = forthAnswerInput.value;\r\n    document\r\n      .getElementById(\"submit-question\")\r\n      .setAttribute(\"forthAnswer\", forthAnswerValue);\r\n  });\r\n\r\n  radioButtons.forEach(function (radioButton) {\r\n    radioButton.addEventListener(\"change\", function (event) {\r\n      radioButtons.forEach(function (rb) {\r\n        if (rb.checked) {\r\n          correctAnswerValue = rb.value;\r\n          document\r\n            .getElementById(\"submit-question\")\r\n            .setAttribute(\"correctAnswer\", correctAnswerValue);\r\n        }\r\n      });\r\n    });\r\n  });\r\n\r\n  difficultySelector.addEventListener(\"change\", function () {\r\n    difficultyValue = difficultySelector.value;\r\n    document\r\n      .getElementById(\"submit-question\")\r\n      .setAttribute(\"difficulty\", difficultyValue);\r\n  });\r\n\r\n  questionSelect.addEventListener(\"change\", function (event) {\r\n    const selectedOption = questionSelect.options[questionSelect.selectedIndex];\r\n    const selectedQuestionId = selectedOption.value;\r\n    // Find the selected question from allTriviaQuestions\r\n    const selectedQuestion = allTriviaQuestions.find(function (question) {\r\n      return question.question_id == selectedQuestionId;\r\n    });\r\n\r\n    // Set the values of input fields\r\n    codeInput.value = selectedQuestion.code;\r\n    firstAnswerInput.value = selectedQuestion.answers[0];\r\n    secondAnswerInput.value = selectedQuestion.answers[1];\r\n    thirdAnswerInput.value = selectedQuestion.answers[2];\r\n    forthAnswerInput.value = selectedQuestion.answers[3];\r\n    difficultySelector.value = selectedQuestion.difficulty;\r\n    correctAnswerValue = selectedQuestion.correctAnswer;\r\n    radioButtons.forEach(function (radioButton) {\r\n      if (radioButton.value === correctAnswerValue) {\r\n        radioButton.checked = true;\r\n      }\r\n    });\r\n    updateValues(selectedQuestion,selectedQuestionId);\r\n  });\r\n\r\n  document\r\n    .getElementById(\"submit-question\")\r\n    .addEventListener(\"click\", handleAddQuestion);\r\n  addRadioButton.checked = true;\r\n\r\n  function updateValues(selectedQuestion,selectedQuestionId) {\r\n    document\r\n    .getElementById(\"submit-question\")\r\n    .setAttribute(\"question_id\", selectedQuestionId);\r\n    document\r\n      .getElementById(\"submit-question\")\r\n      .setAttribute(\"question\", selectedQuestion.question);\r\n    document\r\n      .getElementById(\"submit-question\")\r\n      .setAttribute(\"code\", selectedQuestion.code);\r\n    document\r\n      .getElementById(\"submit-question\")\r\n      .setAttribute(\"firstAnswer\", selectedQuestion.answers[0]);\r\n    document\r\n      .getElementById(\"submit-question\")\r\n      .setAttribute(\"secondAnswer\", selectedQuestion.answers[1]);\r\n    document\r\n      .getElementById(\"submit-question\")\r\n      .setAttribute(\"thirdAnswer\", selectedQuestion.answers[2]);\r\n    document\r\n      .getElementById(\"submit-question\")\r\n      .setAttribute(\"forthAnswer\", selectedQuestion.answers[3]);\r\n    document\r\n      .getElementById(\"submit-question\")\r\n      .setAttribute(\"correctAnswer\", selectedQuestion.correctAnswer);\r\n    document\r\n      .getElementById(\"submit-question\")\r\n      .setAttribute(\"difficulty\", selectedQuestion.difficulty);\r\n    getAllQuestionsFromDB();\r\n    resetQuestionSelect();\r\n  }\r\n  function resetQuestionSelect() {\r\n    questionSelect.innerHTML = \"\";\r\n    // Fill the Select options with question IDs\r\n    allTriviaQuestions.forEach(function (question) {\r\n      const option = document.createElement(\"option\");\r\n      option.value = question.question_id;\r\n      option.textContent = question.question;\r\n      questionSelect.appendChild(option);\r\n    });\r\n  }\r\n\r\n}\r\n\r\nfunction handleAddQuestion(event) {\r\n  const resultMsgBox = document.querySelector(\".submit-message-box\");\r\n  if (!checkInputs()) {\r\n    resultMsgBox.textContent = \" * Please fill all fields\";\r\n    return;\r\n  }\r\n  const questionValue = event.target.getAttribute(\"question\");\r\n  const codeValue = event.target.getAttribute(\"code\");\r\n  const firstAnswerValue = event.target.getAttribute(\"firstAnswer\");\r\n  const secondAnswerValue = event.target.getAttribute(\"secondAnswer\");\r\n  const thirdAnswerValue = event.target.getAttribute(\"thirdAnswer\");\r\n  const forthAnswerValue = event.target.getAttribute(\"forthAnswer\");\r\n  const correctAnswer = event.target.getAttribute(\"correctAnswer\");\r\n  const difficultyValue = event.target.getAttribute(\"difficulty\");\r\n\r\n  let amountOfQuestion = null;\r\n  let errorFlag = false;\r\n\r\n  database.once(\"value\").then(function (snapshot) {\r\n    var value = snapshot.val();\r\n    amountOfQuestion = snapshot.numChildren();\r\n\r\n    const questionData = {\r\n      question: questionValue,\r\n      question_id: amountOfQuestion + 1,\r\n      code: codeValue,\r\n      answers: [\r\n        firstAnswerValue,\r\n        secondAnswerValue,\r\n        thirdAnswerValue,\r\n        forthAnswerValue,\r\n      ],\r\n      correctAnswer: correctAnswer,\r\n      difficulty: difficultyValue,\r\n    };\r\n\r\n    database\r\n      .push()\r\n      .set(questionData)\r\n      .then(() => {\r\n        console.log(\"Data inserted successfully!\");\r\n      })\r\n      .catch((error) => {\r\n        console.error(\"Error inserting data:\", error);\r\n        resultMsgBox.style.color = \"red\";\r\n        resultMsgBox.textContent =\r\n          \"Error inserting question to database, check console for further information.\";\r\n        errorFlag = true;\r\n      });\r\n  });\r\n\r\n  if (!errorFlag) {\r\n    resultMsgBox.style.color = \"white\";\r\n    resultMsgBox.style.backgroundColor = \"green\";\r\n    resultMsgBox.textContent =\r\n      \"Question inserted succesfuly to database, clearing all inputs.\";\r\n  }\r\n  setTimeout(function () {\r\n    clearInputs();\r\n    resultMsgBox.textContent = \"\";\r\n  }, 5000);\r\n}\r\n\r\nfunction handleUpdateQuestion(event) {\r\n  const resultMsgBox = document.querySelector(\".submit-message-box\");\r\n  if (!checkInputs()) {\r\n    resultMsgBox.textContent = \" * Please fill all fields\";\r\n    return;\r\n  }\r\n\r\n  const questionId = event.target.getAttribute(\"question_id\");\r\n  const questionValue = event.target.getAttribute(\"question\");\r\n  const codeValue = event.target.getAttribute(\"code\");\r\n  const firstAnswerValue = event.target.getAttribute(\"firstAnswer\");\r\n  const secondAnswerValue = event.target.getAttribute(\"secondAnswer\");\r\n  const thirdAnswerValue = event.target.getAttribute(\"thirdAnswer\");\r\n  const forthAnswerValue = event.target.getAttribute(\"forthAnswer\");\r\n  const correctAnswer = event.target.getAttribute(\"correctAnswer\");\r\n  const difficultyValue = event.target.getAttribute(\"difficulty\");\r\n\r\n  const questionData = {\r\n    question: questionValue,\r\n    code: codeValue,\r\n    answers: [\r\n      firstAnswerValue,\r\n      secondAnswerValue,\r\n      thirdAnswerValue,\r\n      forthAnswerValue,\r\n    ],\r\n    correctAnswer: correctAnswer,\r\n    difficulty: difficultyValue,\r\n  };\r\n\r\n  let questionRef = null;\r\n  database.once(\"value\").then(function (snapshot) {\r\n    snapshot.forEach(function (childSnapshot) {\r\n      const childData = childSnapshot.val();\r\n      console.log(childData);\r\n      if (childData.question_id == questionId) {\r\n        questionRef = childSnapshot.ref;\r\n        return true; // Exit the loop if the question is found\r\n      }\r\n    });\r\n\r\n    console.log(questionRef);\r\n\r\n    if (questionRef) {\r\n      questionRef\r\n        .update(questionData)\r\n        .then(() => {\r\n          console.log(\"Question updated successfully!\");\r\n          resultMsgBox.style.color = \"white\";\r\n          resultMsgBox.textContent =\r\n            \"Question updated successfully in the database.\";\r\n        })\r\n        .catch((error) => {\r\n          console.error(\"Error updating question:\", error);\r\n          resultMsgBox.style.color = \"red\";\r\n          resultMsgBox.textContent =\r\n            \"Error updating question in the database, check console for further information.\";\r\n        });\r\n    } else {\r\n      resultMsgBox.style.color = \"red\";\r\n      resultMsgBox.textContent = \"Question not found in the database.\";\r\n    }\r\n  });\r\n\r\n  setTimeout(function () {\r\n    clearInputs();\r\n    resultMsgBox.textContent = \"\";\r\n  }, 5000);\r\n}\r\n\r\nfunction checkInputs() {\r\n  const questionInput =\r\n    document.getElementById(\"question\") == null\r\n      ? document.getElementById(\"question-select\").value\r\n      : document.getElementById(\"question\").value;\r\n  const codeInput = document.getElementById(\"code-snippet\").value;\r\n  const firstAnswerInput = document.getElementById(\"answer1\").value;\r\n  const secondAnswerInput = document.getElementById(\"answer2\").value;\r\n  const thirdAnswerInput = document.getElementById(\"answer3\").value;\r\n  const forthAnswerInput = document.getElementById(\"answer4\").value;\r\n  const difficultySelector = document.getElementById(\"difficulty\").value;\r\n\r\n  if (\r\n    questionInput === \"\" ||\r\n    codeInput === \"\" ||\r\n    firstAnswerInput === \"\" ||\r\n    secondAnswerInput === \"\" ||\r\n    thirdAnswerInput === \"\" ||\r\n    forthAnswerInput === \"\" ||\r\n    difficultySelector === \"\" ||\r\n    document.querySelector('input[name=\"correct-answer\"]:checked') === null\r\n  ) {\r\n    return false;\r\n  }\r\n  return true;\r\n}\r\n\r\nfunction clearInputs() {\r\n  const questionInput =\r\n    document.getElementById(\"question\") == null\r\n      ? (document.getElementById(\"question-select\").value = \"\")\r\n      : (document.getElementById(\"question\").value = \"\");\r\n  const codeInput = (document.getElementById(\"code-snippet\").value = \"\");\r\n  const firstAnswerInput = (document.getElementById(\"answer1\").value = \"\");\r\n  const secondAnswerInput = (document.getElementById(\"answer2\").value = \"\");\r\n  const thirdAnswerInput = (document.getElementById(\"answer3\").value = \"\");\r\n  const forthAnswerInput = (document.getElementById(\"answer4\").value = \"\");\r\n  const difficultySelector = (document.getElementById(\"difficulty\").value = \"\");\r\n\r\n  const radioButtons = document.querySelectorAll(\r\n    'input[name=\"correct-answer\"]'\r\n  );\r\n  radioButtons.forEach((radioButton) => {\r\n    if (radioButton.checked) {\r\n      radioButton.checked = false;\r\n    }\r\n  });\r\n}\r\n\r\nfunction handleGameInfoView(event) {\r\n  // Clear questions\r\n  answersList = [];\r\n  questionsList = [];\r\n  codesList = [];\r\n  correctAnswersList = [];\r\n  questionIdList = [];\r\n  currentIndex = 0;\r\n  // Handle menu button click\r\n  handleMenuButtonClick(event);\r\n  // Set the gameInfo div\r\n  const gameInfoDiv = document.createElement(\"div\");\r\n  gameInfoDiv.innerHTML = `<div class=\"grid-container\">\r\n    <div class = \"game-description\">\r\n        \"Skyward\" is a captivating trivia game designed to challenge your Python programming skills.<br><br>\r\n        Test your knowledge of Python syntax, data types, control flow, and more in this engaging game.<br><br>\r\n        Each question presents a code snippet, and you'll have to review it and choose the best answer from four options provided.<br><br>\r\n        With a wide range of difficulty levels, from Easy to Hard, the game caters to Python enthusiasts of all skill levels.<br><br>\r\n        Explore real-world coding scenarios and puzzles that will enhance your understanding of Python concepts.\r\n    </div>\r\n\r\n    <div class=\"game-config\">\r\n      <select id=\"choose-difficulty\" name=\"difficulty\">\r\n        <option value=\"\" disabled selected>Select Difficulty</option>\r\n        <option value=\"easy\">Easy</option>\r\n        <option value=\"medium\">Medium</option>\r\n        <option value=\"hard\">Hard</option>\r\n      </select>\r\n      <button id=\"start-game-btn\" class = \"start-btn\" >Start Game</button>\r\n    </div>\r\n    <div class='error-msg-box'>\r\n\r\n    </div>\r\n  </div>`;\r\n\r\n  bodyDiv.appendChild(gameInfoDiv);\r\n\r\n  const difficultySelector = document.getElementById(\"choose-difficulty\");\r\n\r\n  // Disable options based on user's level\r\n  const userLevel = currentUser.level;\r\n  if (userLevel === \"Beginner\") {\r\n    difficultySelector.options[1].disabled = false; // Enable Easy\r\n    difficultySelector.options[2].disabled = true; // Disable Medium\r\n    difficultySelector.options[3].disabled = true; // Disable Hard\r\n  } else if (userLevel === \"Intermediate\") {\r\n    difficultySelector.options[1].disabled = false; // Enable Easy\r\n    difficultySelector.options[2].disabled = false; // Enable Medium\r\n    difficultySelector.options[3].disabled = true; // Disable Hard\r\n  } else {\r\n    difficultySelector.options[1].disabled = false; // Enable Easy\r\n    difficultySelector.options[2].disabled = false; // Enable Medium\r\n    difficultySelector.options[3].disabled = false; // Enable Hard\r\n  }\r\n  difficultySelector.value = \"Easy\";\r\n  difficultySelector.addEventListener(\"change\", function () {\r\n    difficultyValue = difficultySelector.value;\r\n    document\r\n      .getElementById(\"start-game-btn\")\r\n      .setAttribute(\"difficulty\", difficultyValue);\r\n    fetchQuestionsFromDB(difficultyValue);\r\n  });\r\n  document\r\n    .getElementById(\"start-game-btn\")\r\n    .addEventListener(\"click\", checkChooseDifficulty);\r\n}\r\n\r\nfunction checkChooseDifficulty(event) {\r\n  const resultMsgBox = document.querySelector(\".error-msg-box\");\r\n  if (document.getElementById(\"choose-difficulty\").value === \"\") {\r\n    resultMsgBox.textContent = \" * Please choose the game's difficulty\";\r\n    return;\r\n  } else handlePlayView(event);\r\n}\r\n\r\nfunction handlePlayView(event) {\r\n  let userAnswersList = {};\r\n  currentIndex = 0;\r\n  // Handle menu button click\r\n  handleMenuButtonClick(event);\r\n  // Set the game div\r\n  const gameDiv = document.createElement(\"div\");\r\n  gameDiv.innerHTML = `<div class=\"grid-container\">\r\n    <div id=\"question-box\" class=\"grid-question-box\">\r\n      <div>\r\n        <h1 id=\"question-title\">QUESTION | EASY</h1>\r\n        <span id=\"question-text\"></span>\r\n      </div>\r\n      <div id=\"question-btn-menu\">\r\n        <button id=\"prev-question\"><- PREVIOUS QUESTION</button>\r\n        <button id=\"skip-question\">SKIP QUESTION -></button>\r\n      </div>\r\n    </div>\r\n    <div id=\"code-box\" class=\"grid-code-box\">\r\n      <textarea readonly id=\"code-text\"></textarea>\r\n    </div>\r\n    <div id=\"answers-box\" class=\"grid-answers-box\">\r\n      <button id=\"answer-btn-0\"></button>\r\n      <button id=\"answer-btn-1\"></button>\r\n      <button id=\"answer-btn-2\"></button>\r\n      <button id=\"answer-btn-3\"></button>\r\n    </div>\r\n    <div id=\"progress-box\" class=\"grid-progress-box\"></div>\r\n  </div>`;\r\n  bodyDiv.appendChild(gameDiv);\r\n\r\n  var isChangingQuestion = false;\r\n  const skipQuestionButton = document.getElementById(\"skip-question\");\r\n  skipQuestionButton.addEventListener(\"click\", function () {\r\n    if (!isChangingQuestion) {\r\n      currentIndex += 1;\r\n      if (currentIndex === NUMBER_OF_QUESTIONS) {\r\n        handleGameOver();\r\n      }\r\n      setQuestion();\r\n      handleProgNode();\r\n    }\r\n  });\r\n\r\n  const prevQuestionButton = document.getElementById(\"prev-question\");\r\n  prevQuestionButton.addEventListener(\"click\", function () {\r\n    if (!isChangingQuestion) {\r\n      if (currentIndex > 0) {\r\n        currentIndex -= 1;\r\n      }\r\n      setQuestion();\r\n      handleProgNode();\r\n    }\r\n  });\r\n\r\n  const answerButtons = document.querySelectorAll(\"#answers-box > button\");\r\n\r\n  function displayProgressNode(index) {\r\n    const divNode = document.createElement(\"div\");\r\n    divNode.classList.add(`prog-node-${index}`);\r\n    return divNode;\r\n  }\r\n\r\n  const progressBox = document.getElementById(\"progress-box\");\r\n  for (let i = 0; i < questionsList.length; i++) {\r\n    progressBox.appendChild(displayProgressNode(i));\r\n  }\r\n\r\n  function setQuestion() {\r\n    var currentProgressNode = document.querySelector(\r\n      `.prog-node-${currentIndex}`\r\n    );\r\n\r\n    // Display answers\r\n    answerButtons.forEach(\r\n      (element, index) => (element.innerHTML = answersList[currentIndex][index])\r\n    );\r\n    // Set the question\r\n    document.getElementById(\"question-text\").innerHTML =\r\n      questionsList[currentIndex];\r\n    // Set the code\r\n    document.getElementById(\"code-text\").value = codesList[currentIndex];\r\n\r\n    answerButtons.forEach(function (button) {\r\n      button.disabled = false;\r\n      button.style.backgroundColor = \"#5282b2\";\r\n    });\r\n\r\n    if (\r\n      getComputedStyle(currentProgressNode).backgroundColor !=\r\n      \"rgb(255, 255, 255)\"\r\n    ) {\r\n      var buttonIndex = userAnswersList[currentIndex];\r\n      var questionId = questionIdList[currentIndex];\r\n      if (\r\n        currentUser.completed_questions.filter((question) =>\r\n          question.hasOwnProperty(questionId)\r\n        ) != []\r\n      ) {\r\n        // User already answered this question\r\n        answerButtons.forEach(function (button, index) {\r\n          button.disabled = true;\r\n          if (index.toString() === buttonIndex.toString()) {\r\n            button.style.backgroundColor =\r\n              getComputedStyle(currentProgressNode).backgroundColor;\r\n          } else {\r\n            button.style.backgroundColor = \"#5282b2\";\r\n          }\r\n        });\r\n      }\r\n    }\r\n  }\r\n\r\n  function handleGameOver() {\r\n    handleUserUpdate_DB();\r\n\r\n    answersList = [];\r\n    questionsList = [];\r\n    codesList = [];\r\n    correctAnswersList = [];\r\n    questionIdList = [];\r\n    bodyDiv.innerHTML = \"\";\r\n    const gameDiv = document.createElement(\"div\");\r\n\r\n    gameDiv.innerHTML = `\r\n    <div class=\"end-game\">\r\n      END GAME!\r\n      <canvas id=\"chartCanvas\"></canvas>\r\n    </div>\r\n    `;\r\n\r\n    bodyDiv.appendChild(gameDiv);\r\n\r\n    const chartCanvas = document.getElementById(\"chartCanvas\");\r\n    const chartData = {\r\n      labels: [\"Correct\", \"Incorrect\"],\r\n      datasets: [\r\n        {\r\n          label: \"Correct answers\",\r\n          data: [\r\n            number_of_correct_answer,\r\n            number_of_question - number_of_correct_answer,\r\n          ],\r\n          backgroundColor: [\"green\", \"red\"],\r\n        },\r\n      ],\r\n    };\r\n    const maxTicks = Math.ceil(number_of_question);\r\n    new Chart(chartCanvas, {\r\n      type: \"bar\",\r\n      data: chartData,\r\n      options: {\r\n        scales: {\r\n          y: {\r\n            beginAtZero: true,\r\n            max: maxTicks,\r\n            ticks: {\r\n              color: \"white\",\r\n              stepSize: 1,\r\n            },\r\n          },\r\n          x: {\r\n            ticks: {\r\n              color: \"white\",\r\n            },\r\n          },\r\n        },\r\n        plugins: {\r\n          title: {\r\n            display: true,\r\n            text: \"Question Results\",\r\n            color: \"white\",\r\n            font: {\r\n              size: 30,\r\n            },\r\n          },\r\n        },\r\n      },\r\n    });\r\n\r\n    number_of_question = 0;\r\n    number_of_correct_answer = 0;\r\n  }\r\n\r\n  let streakCounter = 0;\r\n  // Get already earned trophies from the user\r\n\r\n  var earnedTrophyNames = new Set(\r\n    currentUser.trophies.map((trophy) => trophy.name)\r\n  );\r\n\r\n  function handleUserUpdate(isCorrect) {\r\n    // Add completed question to user's data\r\n    completed_question = {\r\n      [questionIdList[currentIndex]]: isCorrect,\r\n    };\r\n    currentUser.completed_questions.push(completed_question);\r\n    // Update number of questions answered\r\n    number_of_question = Number(number_of_question) + 1 + \"\";\r\n    if (isCorrect) {\r\n      currentUser.points += 1;\r\n      streakCounter += 1;\r\n      // Define the streak trophy names and corresponding streak thresholds\r\n      var streakTrophies = [\r\n        { name: \"3 Streak\", streakThreshold: 3 },\r\n        { name: \"High Five!\", streakThreshold: 5 },\r\n        { name: \"Lucky Number\", streakThreshold: 7 },\r\n      ];\r\n\r\n      // Check if any of the streak trophies are earned\r\n      streakTrophies.forEach((streakTrophy) => {\r\n        if (\r\n          streakCounter === streakTrophy.streakThreshold &&\r\n          !earnedTrophyNames.has(streakTrophy.name)\r\n        ) {\r\n          var earnedTrophy = trophies.find(\r\n            (trophy) => trophy.name === streakTrophy.name\r\n          );\r\n          currentUser.trophies.push(earnedTrophy);\r\n          currentUser.points += earnedTrophy.points;\r\n          earnedTrophyNames.add(streakTrophy.name);\r\n        }\r\n      });\r\n    } else {\r\n      streakCounter = 0; // Reset the streak counter if the answer is incorrect\r\n    }\r\n  }\r\n\r\n  function handleAnswerClick(event) {\r\n    isChangingQuestion = true;\r\n    const buttonIndex = event.target.getAttribute(\"data-index\").toString();\r\n    userAnswersList[currentIndex] = buttonIndex;\r\n    // Add the user's answer to the list\r\n    trackProgress(\r\n      buttonIndex == Number(correctAnswersList[currentIndex]) + \"\",\r\n      buttonIndex\r\n    );\r\n    handleUserUpdate(\r\n      buttonIndex == Number(correctAnswersList[currentIndex]) + \"\"\r\n    );\r\n    currentIndex = currentIndex + 1;\r\n    if (currentIndex === questionsList.length) {\r\n      setTimeout(function () {\r\n        handleGameOver();\r\n      }, 2500);\r\n    } else {\r\n      setTimeout(function () {\r\n        handleProgNode();\r\n        setQuestion();\r\n        isChangingQuestion = false;\r\n      }, 2500);\r\n    }\r\n  }\r\n\r\n  function trackProgress(isCorrect, buttonIndex) {\r\n    var currentProgressNode = document.querySelector(\r\n      `.prog-node-${currentIndex}`\r\n    );\r\n    const currentButton = document.querySelector(`#answer-btn-${buttonIndex}`);\r\n    if (isCorrect) {\r\n      currentProgressNode.style.backgroundColor = \"green\";\r\n      currentButton.style.backgroundColor = \"green\";\r\n      number_of_correct_answer = Number(number_of_correct_answer) + 1 + \"\";\r\n    } else {\r\n      currentProgressNode.style.backgroundColor = \"red\";\r\n      currentButton.style.backgroundColor = \"red\";\r\n    }\r\n    setTimeout(function () {\r\n      currentButton.style.backgroundColor = \"\";\r\n      answerButtons.forEach((button) => {\r\n        button.disabled = false;\r\n      });\r\n    }, 2500);\r\n    answerButtons.forEach((button) => {\r\n      button.disabled = true;\r\n    });\r\n  }\r\n\r\n  function handleProgNode() {\r\n    var progNodeList = document.querySelectorAll('[class^=\"prog-node-\"]');\r\n    progNodeList.forEach((node) => {\r\n      if (node.classList.contains(`prog-node-${currentIndex}`)) {\r\n        node.style.outline = \"3px solid #fff\";\r\n        node.style.outlineOffset = \"3px\";\r\n      } else {\r\n        node.style.outline = \"none\";\r\n      }\r\n    });\r\n  }\r\n\r\n  handleProgNode();\r\n  setQuestion();\r\n  for (let i = 0; i < answerButtons.length; i++) {\r\n    var answerBtn = document.getElementById(`answer-btn-${i}`);\r\n    // Add an index attribute for each button\r\n    answerBtn.setAttribute(\"data-index\", i);\r\n    // Add event listeners to the buttons to handle question answering\r\n    answerBtn.addEventListener(\"click\", handleAnswerClick);\r\n  }\r\n}\r\n\r\nfunction handleHomeView(event) {\r\n  // Handle menu button click\r\n  handleMenuButtonClick(event);\r\n  var readyToLevelUp = false;\r\n  const userAnsweredQuestions = currentUser.completed_questions.filter(\r\n    (question) => question != null\r\n  ).length;\r\n  var userCorrectAnswers = 0;\r\n  currentUser.completed_questions.forEach((question) => {\r\n    //count correct questions\r\n    if (question != null && Object.values(question)[0]) {\r\n      userCorrectAnswers += 1;\r\n    }\r\n  });\r\n  var userSuccessRate = 0;\r\n  if (userAnsweredQuestions > 0) {\r\n    userSuccessRate = (userCorrectAnswers / userAnsweredQuestions) * 100;\r\n  }\r\n\r\n  let remainingRequirements = null;\r\n  let nextLevel = null;\r\n  // Update user level if needed\r\n  for (let i = 0; i < levels.length; i++) {\r\n    const level = levels[i];\r\n    const { answeredQuestions, correctAnswersPercentage } = level.requirements;\r\n    if (\r\n      userAnsweredQuestions >= answeredQuestions &&\r\n      userSuccessRate >= correctAnswersPercentage\r\n    ) {\r\n      currentUser.level = level.name;\r\n\r\n      if (i < levels.length - 1) {\r\n        nextLevel = levels[i + 1];\r\n        const remainingAnsweredQuestions =\r\n          nextLevel.requirements.answeredQuestions - userAnsweredQuestions;\r\n        const remainingSuccessRate =\r\n          nextLevel.requirements.correctAnswersPercentage;\r\n\r\n        remainingRequirements = {\r\n          answeredQuestions: Math.max(remainingAnsweredQuestions, 0),\r\n          correctAnswersPercentage: Math.max(remainingSuccessRate, 0),\r\n        };\r\n      }\r\n    }\r\n  }\r\n\r\n  const homeDiv = document.createElement(\"div\");\r\n  homeDiv.innerHTML = `\r\n    <div class=\"grid-container\">\r\n      <div class=\"home-view-div\" id=\"home-stats\"></div>\r\n      <div class=\"home-view-div\" id=\"home-level\"></div>\r\n      <div class=\"home-view-div\" id=\"home-leader\">Leaderboard</div>\r\n    </div>\r\n    <div class=\"home-view-div trophy-container\" id=\"home-trophy\"></div>\r\n  `;\r\n\r\n  bodyDiv.appendChild(homeDiv);\r\n\r\n  var homeLevelContainer = document.getElementById(\"home-level\");\r\n  // Generate HTML content for the user's level\r\n  var levelHTML = \"\";\r\n\r\n  levelHTML += \"<p>Next level is \" + nextLevel.name + \"</p>\";\r\n  levelHTML +=\r\n    \"<p>To level up, you need to answer \" +\r\n    remainingRequirements.answeredQuestions +\r\n    \" more questions and maintain a success rate of \" +\r\n    remainingRequirements.correctAnswersPercentage +\r\n    \"%.</p>\";\r\n  levelHTML += \"<p id='level-up-text'></p>\";\r\n  levelHTML +=\r\n    \"<button id='level-up-btn' class='wrong-privilage-btn' style='margin: 0; margin-top: 10px; margin-bottom: 10px;'>LEVEL UP</button>\";\r\n\r\n  // Update the contents of the <div> element with the level HTML\r\n  homeLevelContainer.innerHTML = levelHTML;\r\n\r\n  // Check if the user is ready to level up\r\n  if (\r\n    remainingRequirements.answeredQuestions <= 0 &&\r\n    remainingRequirements.correctAnswersPercentage <= userSuccessRate\r\n  ) {\r\n    readyToLevelUp = true;\r\n    levelUpText = document.getElementById(\"level-up-text\");\r\n    levelUpText.innerHTML = \"You are ready to level up!\";\r\n    levelUpButton = document.getElementById(\"level-up-btn\");\r\n    levelUpButton.className = \"sidebar-btn\";\r\n    levelUpButton.addEventListener(\"click\", function () {\r\n      currentUser.level = nextLevel.name;\r\n      handleUserUpdate_DB();\r\n      handleHomeView(event);\r\n    });\r\n  } else {\r\n    readyToLevelUp = false;\r\n  }\r\n\r\n  var leaderboardContainer = document.getElementById(\"home-leader\");\r\n  // Generate HTML content for the leaderboard\r\n  var leaderboardHTML = \"\";\r\n  userList.sort((a, b) => parseFloat(b.points) - parseFloat(a.points));\r\n  if (!userList.length) {\r\n    leaderboardContainer.innerHTML = \"No users\";\r\n  } else {\r\n    for (var i = 0; i < userList.length; i++) {\r\n      var user = userList.sort()[i];\r\n      leaderboardHTML += '<div class=\"leaderboard-user\">';\r\n      leaderboardHTML +=\r\n        `<p>${i + 1}.&nbsp;</p>` +\r\n        \" \" +\r\n        \"<p class='leaderboard-username'>\" +\r\n        user.user_name +\r\n        \"</p>\";\r\n      leaderboardHTML +=\r\n        \"<p class='leaderboard-points'>\" + user.points + \"</p>\";\r\n      leaderboardHTML += \"</div>\";\r\n    }\r\n  }\r\n  // Update the contents of the <div> element with the leaderboard HTML\r\n  leaderboardContainer.innerHTML = leaderboardHTML;\r\n\r\n  var trophyContainer = document.getElementById(\"home-trophy\");\r\n  // Generate HTML content for the user's trophies\r\n  var trophyHTML = \"\";\r\n\r\n  if (!currentUser.trophies.length) {\r\n    trophyHTML = \"No trophies\";\r\n  } else {\r\n    for (var i = 0; i < currentUser.trophies.length; i++) {\r\n      var trophy = currentUser.trophies[i];\r\n      trophyHTML += '<div class=\"trophy\">';\r\n      trophyHTML += \"<p>\" + trophy.name + \"</p>\";\r\n      trophyHTML += \"<p>\" + trophy.description + \"</p>\";\r\n      trophyHTML += \"</div>\";\r\n    }\r\n  }\r\n\r\n  // Update the contents of the <div> element with the trophy HTML\r\n  trophyContainer.innerHTML = trophyHTML;\r\n\r\n  var statsContainer = document.getElementById(\"home-stats\");\r\n  // Create HTML content for the user's details\r\n  var userDetailsHTML = \"<p>Welcome back \" + currentUser.user_name + \"</p>\";\r\n  userDetailsHTML += \"<p>Player Level: \" + currentUser.level + \"</p>\";\r\n  userDetailsHTML += \"<p>Total Points: \" + currentUser.points + \"</p>\";\r\n  userDetailsHTML +=\r\n    \"<p>You have answered \" + userAnsweredQuestions + \" questions.</p>\";\r\n  userDetailsHTML += `<p>You have a ${userSuccessRate.toFixed(\r\n    2\r\n  )}% success rate.</p>`;\r\n\r\n  // Update the contents of the <div> element with the user details HTML\r\n  statsContainer.innerHTML = userDetailsHTML;\r\n}\r\n\r\nfunction handleUserUpdate_DB() {\r\n  // Update the user in the Firebase database\r\n  const userKey = currentUser.db_key;\r\n  const userPath = `/SkyWard/Users/${userKey}`;\r\n  const userRef = firebase.database().ref(userPath);\r\n  userRef\r\n    .set(currentUser)\r\n    .then(() => {\r\n      console.log(\"User updated successfully\");\r\n    })\r\n    .catch((error) => {\r\n      console.error(\"Error updating user:\", error);\r\n    });\r\n  console.log(currentUser);\r\n}\r\n</script>"
          }
        },
        "6958793beb4e4232a480d2a3c4fc7fa9": {
          "model_module": "@jupyter-widgets/base",
          "model_name": "LayoutModel",
          "model_module_version": "1.2.0",
          "state": {
            "_model_module": "@jupyter-widgets/base",
            "_model_module_version": "1.2.0",
            "_model_name": "LayoutModel",
            "_view_count": null,
            "_view_module": "@jupyter-widgets/base",
            "_view_module_version": "1.2.0",
            "_view_name": "LayoutView",
            "align_content": null,
            "align_items": null,
            "align_self": null,
            "border": null,
            "bottom": null,
            "display": null,
            "flex": null,
            "flex_flow": null,
            "grid_area": null,
            "grid_auto_columns": null,
            "grid_auto_flow": null,
            "grid_auto_rows": null,
            "grid_column": null,
            "grid_gap": null,
            "grid_row": null,
            "grid_template_areas": null,
            "grid_template_columns": null,
            "grid_template_rows": null,
            "height": null,
            "justify_content": null,
            "justify_items": null,
            "left": null,
            "margin": null,
            "max_height": null,
            "max_width": null,
            "min_height": null,
            "min_width": null,
            "object_fit": null,
            "object_position": null,
            "order": null,
            "overflow": null,
            "overflow_x": null,
            "overflow_y": null,
            "padding": null,
            "right": null,
            "top": null,
            "visibility": null,
            "width": null
          }
        },
        "cb3b58f04c88483e8bb8857526bc6939": {
          "model_module": "@jupyter-widgets/controls",
          "model_name": "DescriptionStyleModel",
          "model_module_version": "1.5.0",
          "state": {
            "_model_module": "@jupyter-widgets/controls",
            "_model_module_version": "1.5.0",
            "_model_name": "DescriptionStyleModel",
            "_view_count": null,
            "_view_module": "@jupyter-widgets/base",
            "_view_module_version": "1.2.0",
            "_view_name": "StyleView",
            "description_width": ""
          }
        }
      }
    }
  },
  "cells": [
    {
      "cell_type": "markdown",
      "metadata": {
        "id": "view-in-github",
        "colab_type": "text"
      },
      "source": [
        "<a href=\"https://colab.research.google.com/github/OrBenyamin7/Cloud/blob/main/SkyWard.ipynb\" target=\"_parent\"><img src=\"https://colab.research.google.com/assets/colab-badge.svg\" alt=\"Open In Colab\"/></a>"
      ]
    },
    {
      "cell_type": "code",
      "source": [
        "# PIP INSTALLS\n",
        "!pip install pyinputplus\n",
        "!pip install firebase"
      ],
      "metadata": {
        "colab": {
          "base_uri": "https://localhost:8080/"
        },
        "id": "EXlBc4dS_inT",
        "outputId": "48baa4aa-0c38-47b7-d1c8-e41ed5823292"
      },
      "execution_count": null,
      "outputs": [
        {
          "output_type": "stream",
          "name": "stdout",
          "text": [
            "Looking in indexes: https://pypi.org/simple, https://us-python.pkg.dev/colab-wheels/public/simple/\n",
            "Requirement already satisfied: pyinputplus in /usr/local/lib/python3.10/dist-packages (0.2.12)\n",
            "Requirement already satisfied: pysimplevalidate>=0.2.7 in /usr/local/lib/python3.10/dist-packages (from pyinputplus) (0.2.12)\n",
            "Requirement already satisfied: stdiomask>=0.0.3 in /usr/local/lib/python3.10/dist-packages (from pyinputplus) (0.0.6)\n",
            "Looking in indexes: https://pypi.org/simple, https://us-python.pkg.dev/colab-wheels/public/simple/\n",
            "Requirement already satisfied: firebase in /usr/local/lib/python3.10/dist-packages (4.0.1)\n",
            "Requirement already satisfied: requests in /usr/local/lib/python3.10/dist-packages (from firebase) (2.27.1)\n",
            "Requirement already satisfied: urllib3<1.27,>=1.21.1 in /usr/local/lib/python3.10/dist-packages (from requests->firebase) (1.26.15)\n",
            "Requirement already satisfied: certifi>=2017.4.17 in /usr/local/lib/python3.10/dist-packages (from requests->firebase) (2022.12.7)\n",
            "Requirement already satisfied: charset-normalizer~=2.0.0 in /usr/local/lib/python3.10/dist-packages (from requests->firebase) (2.0.12)\n",
            "Requirement already satisfied: idna<4,>=2.5 in /usr/local/lib/python3.10/dist-packages (from requests->firebase) (3.4)\n"
          ]
        }
      ]
    },
    {
      "cell_type": "code",
      "source": [
        "\n",
        "import time\n",
        "import requests\n",
        "from IPython.display import HTML, display, clear_output, Javascript\n",
        "import tkinter as tk\n",
        "import asyncio\n",
        "import matplotlib.pyplot as plt\n",
        "import ipywidgets as widgets\n",
        "from ipywidgets import Layout, Button, Box\n",
        "import pyinputplus as pyip\n",
        "import random\n",
        "from firebase import firebase\n",
        "import json\n",
        "import os\n",
        "from google.colab import drive\n",
        "drive.mount('/content/drive')\n"
      ],
      "metadata": {
        "id": "an-vupRY_03B",
        "colab": {
          "base_uri": "https://localhost:8080/"
        },
        "outputId": "7fe325f9-6bcd-4d12-a8e1-ee9e12d2120b"
      },
      "execution_count": null,
      "outputs": [
        {
          "output_type": "stream",
          "name": "stdout",
          "text": [
            "Drive already mounted at /content/drive; to attempt to forcibly remount, call drive.mount(\"/content/drive\", force_remount=True).\n"
          ]
        }
      ]
    },
    {
      "cell_type": "code",
      "source": [
        "# DATABASE CONNETION\n",
        "FBCONN = firebase.FirebaseApplication('https://trivia-game-6a531-default-rtdb.firebaseio.com/', None)"
      ],
      "metadata": {
        "id": "_snP8sAW_iuC"
      },
      "execution_count": null,
      "outputs": []
    },
    {
      "cell_type": "code",
      "source": [
        "class JS:\n",
        "    def __init__(self, js_code):\n",
        "        self.js_code = js_code\n",
        "\n",
        "    def render(self):\n",
        "        return f\"<script>{self.js_code}</script>\""
      ],
      "metadata": {
        "id": "vWHFcnfq_iw7"
      },
      "execution_count": null,
      "outputs": []
    },
    {
      "cell_type": "code",
      "source": [
        "class HTML:\n",
        "    def __init__(self, html_code):\n",
        "        self.html_code = html_code\n",
        "\n",
        "    def render(self):\n",
        "        return self.html_code"
      ],
      "metadata": {
        "id": "EzO5qDqQ_i0A"
      },
      "execution_count": null,
      "outputs": []
    },
    {
      "cell_type": "code",
      "source": [
        "class CSS:\n",
        "    def __init__(self, css_code):\n",
        "        self.css_code = css_code\n",
        "\n",
        "    def render(self):\n",
        "        return f\"<style>{self.css_code}</style>\""
      ],
      "metadata": {
        "id": "MEPnAIHM_i10"
      },
      "execution_count": null,
      "outputs": []
    },
    {
      "cell_type": "code",
      "source": [
        "def get_all_users():\n",
        "  res = FBCONN.get('/SkyWard/Users',None)\n",
        "  user_list = []\n",
        "  for key in res:\n",
        "      user = res[key]\n",
        "      user['db_key'] = user.get('db_key', key)\n",
        "      user['trophies'] = user.get('trophies', [])\n",
        "      user['completed_questions'] = user.get('completed_questions', [])\n",
        "      user_list.append(user)\n",
        "  return user_list\n",
        "\n",
        "def read_file_from_drive(file_path):\n",
        "    file_path = os.path.join('/content/drive/MyDrive/html_files', file_path)\n",
        "    if os.path.exists(file_path):\n",
        "        with open(file_path, 'r') as file:\n",
        "            content = file.read()\n",
        "        return content\n",
        "    else:\n",
        "        print(f\"File not found at {file_path}\")\n",
        "        return None\n",
        "\n",
        "def read_file_from_hub(url):\n",
        "  response = requests.get(url)\n",
        "\n",
        "  if response.status_code == 200:\n",
        "      content = response.text\n",
        "      return content\n",
        "  else:\n",
        "      print(\"Failed to retrieve file content.\")\n"
      ],
      "metadata": {
        "id": "DlVaVxK9CRV2"
      },
      "execution_count": null,
      "outputs": []
    },
    {
      "cell_type": "code",
      "source": [
        "# Use This Block For Drive\n",
        "#CSS_URI = 'styles.css'\n",
        "#JS_URI = 'script.js'\n",
        "#HTML_URI = 'html.html'\n",
        "#json_user_list = json.dumps(get_all_users())\n",
        "\n",
        "#JS_TEXT = read_file_from_drive(JS_URI) % (json_user_list)\n",
        "#CSS_TEXT = read_file_from_drive(CSS_URI)\n",
        "#HTML_TEXT = read_file_from_drive(HTML_URI)\n"
      ],
      "metadata": {
        "id": "tGASY7DJCiQd"
      },
      "execution_count": null,
      "outputs": []
    },
    {
      "cell_type": "code",
      "source": [
        "# Use This Block For Github\n",
        "CSS_URI = 'https://raw.githubusercontent.com/DinaKakiashvili/test/main/html_files/styles.css'\n",
        "JS_URI = 'https://raw.githubusercontent.com/DinaKakiashvili/test/main/html_files/script.js'\n",
        "HTML_URI = 'https://raw.githubusercontent.com/DinaKakiashvili/test/main/html_files/html.html'\n",
        "json_user_list = json.dumps(get_all_users())\n",
        "\n",
        "JS_TEXT = read_file_from_hub(JS_URI) % (json_user_list)\n",
        "CSS_TEXT = read_file_from_hub(CSS_URI)\n",
        "HTML_TEXT = read_file_from_hub(HTML_URI)"
      ],
      "metadata": {
        "id": "lwnuAmPDHoV0"
      },
      "execution_count": null,
      "outputs": []
    },
    {
      "cell_type": "code",
      "source": [
        "class Main:\n",
        "    def __init__(self):\n",
        "        self.css = CSS(CSS_TEXT)\n",
        "        self.html = HTML(HTML_TEXT)\n",
        "        self.js = JS(JS_TEXT)\n",
        "\n",
        "    def render(self):\n",
        "        output = self.css.render()\n",
        "        output += self.html.render()\n",
        "        output += self.js.render()\n",
        "        return output\n",
        "\n",
        "# Creating an instance of the Main class\n",
        "main = Main()\n",
        "\n",
        "# Rendering the output\n",
        "output = main.render()\n",
        "\n",
        "# Displaying the HTML page\n",
        "display(widgets.HTML(value = output))"
      ],
      "metadata": {
        "colab": {
          "base_uri": "https://localhost:8080/",
          "height": 611,
          "referenced_widgets": [
            "d15e3e3f713345cfa23fd4474c25759d",
            "6958793beb4e4232a480d2a3c4fc7fa9",
            "cb3b58f04c88483e8bb8857526bc6939"
          ]
        },
        "id": "mPb3FHQb_Zm8",
        "outputId": "1dbcb0be-0fa2-4fd6-a0b3-4e607045b2ea"
      },
      "execution_count": null,
      "outputs": [
        {
          "output_type": "display_data",
          "data": {
            "text/plain": [
              "HTML(value='<style>@import url(\"https://fonts.googleapis.com/css2?family=Josefin+Sans&display=swap\");\\n\\nbody …"
            ],
            "application/vnd.jupyter.widget-view+json": {
              "version_major": 2,
              "version_minor": 0,
              "model_id": "d15e3e3f713345cfa23fd4474c25759d"
            }
          },
          "metadata": {}
        }
      ]
    }
  ]
}